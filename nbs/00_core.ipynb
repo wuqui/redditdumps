{
 "cells": [
  {
   "cell_type": "code",
   "execution_count": null,
   "metadata": {},
   "outputs": [],
   "source": [
    "#| default_exp core"
   ]
  },
  {
   "cell_type": "markdown",
   "metadata": {},
   "source": [
    "# core\n",
    "\n",
    "> Fill in a module description here"
   ]
  },
  {
   "cell_type": "code",
   "execution_count": null,
   "metadata": {},
   "outputs": [],
   "source": [
    "#| export\n",
    "from fastcore.script import *\n",
    "from pathlib import Path\n",
    "import polars as pl\n",
    "from gensim.models import Word2Vec"
   ]
  },
  {
   "cell_type": "code",
   "execution_count": null,
   "metadata": {},
   "outputs": [],
   "source": [
    "#| export\n",
    "def get_docs(\n",
    "    dir_comments: str, # directory containing parquet dataframes\n",
    "    subreddit: str # subreddit to be processed\n",
    "    ) -> list:\n",
    "    dir_comments = Path(dir_comments)\n",
    "    df = pl.read_parquet(dir_comments / subreddit / '*.parquet')\n",
    "    docs_srs = df['body'].sample(1_000).str.split(' ')\n",
    "    docs_list = docs_srs.to_list()\n",
    "    return docs_list\n",
    "    "
   ]
  },
  {
   "cell_type": "markdown",
   "metadata": {},
   "source": [
    "# train model"
   ]
  },
  {
   "cell_type": "code",
   "execution_count": null,
   "metadata": {},
   "outputs": [],
   "source": [
    "#| export\n",
    "@call_parse\n",
    "def train_model(\n",
    "    subreddit: str,\n",
    "    dir_comments: str,\n",
    "    dir_models: str\n",
    "    ):\n",
    "    docs = get_docs(dir_comments, subreddit)\n",
    "    model = Word2Vec(\n",
    "        docs[:1_000_000],\n",
    "        workers=8\n",
    "    )\n",
    "    dir_models = Path(dir_models)\n",
    "    model.save((dir_models / f\"{subreddit}.model\").as_posix())"
   ]
  },
  {
   "cell_type": "markdown",
   "metadata": {},
   "source": [
    "# toy console script"
   ]
  },
  {
   "cell_type": "code",
   "execution_count": null,
   "metadata": {},
   "outputs": [],
   "source": [
    "#| export\n",
    "@call_parse\n",
    "def add_one(\n",
    "    num: int # first number\n",
    "    ) -> int: # result\n",
    "    result = num + 1\n",
    "    print(result)\n",
    "    return result"
   ]
  }
 ],
 "metadata": {
  "kernelspec": {
   "display_name": "Python 3 (ipykernel)",
   "language": "python",
   "name": "python3"
  }
 },
 "nbformat": 4,
 "nbformat_minor": 4
}
